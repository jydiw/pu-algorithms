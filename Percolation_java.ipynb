{
 "cells": [
  {
   "cell_type": "code",
   "execution_count": null,
   "metadata": {},
   "outputs": [],
   "source": [
    "// keyword `class` begins class definition for class named Percolation\n",
    "\n",
    "public class Percolation {\n",
    "  private boolean[][] grid;\n",
    "  private int numOpen;\n",
    "\n",
    "\n",
    "  // creates n-by-n grid, with all sites initially blocked\n",
    "  public Percolation(int n) {\n",
    "    if (n <= 0) {\n",
    "      throw new IllegalArgumentException(\"n <= 0\");\n",
    "    }\n",
    "    grid = new boolean[n][n];\n",
    "    numOpen = 0;\n",
    "  }\n",
    "\n",
    "  // opens the site (row, col) if it is not open already\n",
    "  public void open(int row, int col) {\n",
    "    if (grid[row][col] == false) {\n",
    "      grid[row][col] = true;\n",
    "    }\n",
    "  }\n",
    "\n",
    "  // is the site (row, col) open?\n",
    "  public boolean isOpen(int row, int col)\n",
    "\n",
    "  // is the site (row, col) full?\n",
    "  public boolean isFull(int row, int col)\n",
    "\n",
    "  // returns the number of open sites\n",
    "  public int numberOfOpenSites()\n",
    "\n",
    "  // does the system percolate?\n",
    "  public boolean percolates()\n",
    "\n",
    "  // test client (optional)\n",
    "  public static void main(String[] args)\n",
    "}"
   ]
  }
 ],
 "metadata": {
  "kernelspec": {
   "display_name": "Java",
   "language": "java",
   "name": "java"
  },
  "language_info": {
   "codemirror_mode": "java",
   "file_extension": ".jshell",
   "mimetype": "text/x-java-source",
   "name": "Java",
   "pygments_lexer": "java",
   "version": "15+36-1562"
  }
 },
 "nbformat": 4,
 "nbformat_minor": 4
}
