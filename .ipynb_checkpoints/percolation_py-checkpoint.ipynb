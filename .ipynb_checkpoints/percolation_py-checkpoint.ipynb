{
 "cells": [
  {
   "cell_type": "code",
   "execution_count": 89,
   "metadata": {},
   "outputs": [],
   "source": [
    "import numpy as np "
   ]
  },
  {
   "cell_type": "markdown",
   "metadata": {},
   "source": [
    "## using a grid"
   ]
  },
  {
   "cell_type": "code",
   "execution_count": 104,
   "metadata": {},
   "outputs": [],
   "source": [
    "class Percolation():\n",
    "  \n",
    "  # creates n-by-n grid, with all sites initially blocked\n",
    "  def __init__(self, n):\n",
    "      self.N = n\n",
    "      self.ios = np.zeros((n,n), dtype=int)     # opens\n",
    "      self.ids = np.zeros((n,n), dtype=int)     # ids\n",
    "      for row in range(n):\n",
    "          for col in range(n):\n",
    "              self.ids[row][col] = self._id(row, col)\n",
    "      self.izs = np.ones((n,n), dtype=int)      # sizes\n",
    "\n",
    "  # opens the site (row, col) if it is not open already\n",
    "  def opens(self, row, col):\n",
    "    self.ios[row][col] = 1\n",
    "    \n",
    "  # is the site open?\n",
    "  def is_open(self, row, col):\n",
    "      return self.ios[row][col] == 1\n",
    "    \n",
    "  # is the site full?\n",
    "  def is_full(self, row, col):\n",
    "      return self.ios[row][col] == 1\n",
    "  \n",
    "  def _id(self, row, col):\n",
    "    return str(row) + str(col)\n",
    "  \n",
    "  def _check_rc(self, rc):\n",
    "    return (rc >= 0) and (rc < self.N)\n",
    "    \n",
    "  def _check_adjacent(self, row, col):\n",
    "    rows = [r for r in [row-1, row+1] if self._check_rc(r)]\n",
    "    cols = [c for c in [col-1, col+1] if self._check_rc(c)]\n",
    "    \n",
    "\n",
    "  # path compression\n",
    "  def _root(self, row, col):\n",
    "      i = self._id(row, col)\n",
    "      while i != self.ids[row][col]:\n",
    "          self.ids[i] = self.ids[self.ids[i]]\n",
    "          i = self.ids[i]\n",
    "      return i\n",
    "\n",
    "  def connected(self, p, q):\n",
    "      return all(self.root(p) == self.root(q))\n",
    "\n",
    "  \n",
    "\n",
    "  \n",
    "\n",
    "  # def is_full(self, row, col):\n",
    "\n",
    "  # def get_id(self, i):\n",
    "  #     row = i // 5\n",
    "  #     col = i % 5\n",
    "  #     return self.ids[row][col]\n",
    "\n",
    "  # def set_id(self, i, x):\n",
    "  #     row = i // 5\n",
    "  #     col = i % 5\n",
    "  #     self.ids[row][col] = x\n",
    "\n",
    "  @property\n",
    "  def num_open(self):\n",
    "      return np.sum(self.ios)\n",
    "\n",
    "    "
   ]
  },
  {
   "cell_type": "markdown",
   "metadata": {},
   "source": [
    "## using a flat array"
   ]
  },
  {
   "cell_type": "code",
   "execution_count": null,
   "metadata": {},
   "outputs": [],
   "source": [
    "class Percolation():\n",
    "  \n",
    "  # creates n-by-n grid, with all sites initially blocked\n",
    "  def __init__(self, n):\n",
    "    self.N = n\n",
    "    self.ios = np.zeros(n*n, dtype=int)       # opens\n",
    "    self.ids = np.arange(n*n)                 # ids\n",
    "    self.izs = np.ones(n*n, dtype=int)        # sizes\n",
    "    \n",
    "  # converts row, col to id on array\n",
    "  def _id(self, row, col):\n",
    "    return self.N * row + col\n",
    "  \n",
    "  def _rc(self, rc):\n",
    "    return (rc >= 0) and (rc < n)\n",
    "  \n",
    "  def _check_adjacent(self, row, col):\n",
    "    to_check = []\n",
    "    to_check.append([])\n",
    "\n",
    "  # opens the site (row, col) if it is not open already\n",
    "  def opens(self, row, col):\n",
    "    self.ios[self._id(row, col)] = 1\n",
    "    \n",
    "  # is the site open?\n",
    "  def is_open(self, row, col):\n",
    "    return self.ios[self._id(row, col)] == 1\n",
    "    \n",
    "  # is the site full?\n",
    "  def is_full(self, row, col):\n",
    "    return self.ios[row][col] == 1\n",
    "\n",
    "  # path compression\n",
    "  def _root(self, row, col):\n",
    "      i = self._id(row, col)\n",
    "      while i != self.ids[i]:\n",
    "        self.ids[i] = self.ids[self.ids[i]]\n",
    "        i = self.ids[i]\n",
    "      return i\n",
    "    \n",
    "  # union with size considerations\n",
    "  def _union(self, p, q):\n",
    "    \n",
    "\n",
    "  def connected(self, p, q):\n",
    "      return all(self.root(p) == self.root(q))\n",
    "\n",
    "  \n",
    "\n",
    "  \n",
    "\n",
    "  # def is_full(self, row, col):\n",
    "\n",
    "  # def get_id(self, i):\n",
    "  #     row = i // 5\n",
    "  #     col = i % 5\n",
    "  #     return self.ids[row][col]\n",
    "\n",
    "  # def set_id(self, i, x):\n",
    "  #     row = i // 5\n",
    "  #     col = i % 5\n",
    "  #     self.ids[row][col] = x\n",
    "\n",
    "  @property\n",
    "  def num_open(self):\n",
    "      return np.sum(self.ios)\n",
    "\n",
    "    "
   ]
  },
  {
   "cell_type": "code",
   "execution_count": 105,
   "metadata": {},
   "outputs": [],
   "source": [
    "perc = Percolation(5)"
   ]
  },
  {
   "cell_type": "code",
   "execution_count": 106,
   "metadata": {},
   "outputs": [
    {
     "data": {
      "text/plain": [
       "19"
      ]
     },
     "execution_count": 106,
     "metadata": {},
     "output_type": "execute_result"
    }
   ],
   "source": [
    "perc.root(3,4)"
   ]
  },
  {
   "cell_type": "code",
   "execution_count": 107,
   "metadata": {},
   "outputs": [],
   "source": [
    "perc.ids[perc.i(3,4)] = 12"
   ]
  },
  {
   "cell_type": "code",
   "execution_count": 108,
   "metadata": {},
   "outputs": [
    {
     "ename": "TypeError",
     "evalue": "root() missing 1 required positional argument: 'col'",
     "output_type": "error",
     "traceback": [
      "\u001b[1;31m---------------------------------------------------------------------------\u001b[0m",
      "\u001b[1;31mTypeError\u001b[0m                                 Traceback (most recent call last)",
      "\u001b[1;32m<ipython-input-108-ab20a63d097d>\u001b[0m in \u001b[0;36m<module>\u001b[1;34m\u001b[0m\n\u001b[1;32m----> 1\u001b[1;33m \u001b[0mperc\u001b[0m\u001b[1;33m.\u001b[0m\u001b[0mconnected\u001b[0m\u001b[1;33m(\u001b[0m\u001b[1;36m19\u001b[0m\u001b[1;33m,\u001b[0m \u001b[1;36m12\u001b[0m\u001b[1;33m)\u001b[0m\u001b[1;33m\u001b[0m\u001b[1;33m\u001b[0m\u001b[0m\n\u001b[0m",
      "\u001b[1;32m<ipython-input-104-40f71b76cb68>\u001b[0m in \u001b[0;36mconnected\u001b[1;34m(self, p, q)\u001b[0m\n\u001b[0;32m     21\u001b[0m \u001b[1;33m\u001b[0m\u001b[0m\n\u001b[0;32m     22\u001b[0m     \u001b[1;32mdef\u001b[0m \u001b[0mconnected\u001b[0m\u001b[1;33m(\u001b[0m\u001b[0mself\u001b[0m\u001b[1;33m,\u001b[0m \u001b[0mp\u001b[0m\u001b[1;33m,\u001b[0m \u001b[0mq\u001b[0m\u001b[1;33m)\u001b[0m\u001b[1;33m:\u001b[0m\u001b[1;33m\u001b[0m\u001b[1;33m\u001b[0m\u001b[0m\n\u001b[1;32m---> 23\u001b[1;33m         \u001b[1;32mreturn\u001b[0m \u001b[0mall\u001b[0m\u001b[1;33m(\u001b[0m\u001b[0mself\u001b[0m\u001b[1;33m.\u001b[0m\u001b[0mroot\u001b[0m\u001b[1;33m(\u001b[0m\u001b[0mp\u001b[0m\u001b[1;33m)\u001b[0m \u001b[1;33m==\u001b[0m \u001b[0mself\u001b[0m\u001b[1;33m.\u001b[0m\u001b[0mroot\u001b[0m\u001b[1;33m(\u001b[0m\u001b[0mq\u001b[0m\u001b[1;33m)\u001b[0m\u001b[1;33m)\u001b[0m\u001b[1;33m\u001b[0m\u001b[1;33m\u001b[0m\u001b[0m\n\u001b[0m\u001b[0;32m     24\u001b[0m \u001b[1;33m\u001b[0m\u001b[0m\n\u001b[0;32m     25\u001b[0m     \u001b[1;32mdef\u001b[0m \u001b[0mopen\u001b[0m\u001b[1;33m(\u001b[0m\u001b[0mself\u001b[0m\u001b[1;33m,\u001b[0m \u001b[0mrow\u001b[0m\u001b[1;33m,\u001b[0m \u001b[0mcol\u001b[0m\u001b[1;33m)\u001b[0m\u001b[1;33m:\u001b[0m\u001b[1;33m\u001b[0m\u001b[1;33m\u001b[0m\u001b[0m\n",
      "\u001b[1;31mTypeError\u001b[0m: root() missing 1 required positional argument: 'col'"
     ]
    }
   ],
   "source": [
    "perc.connected(19, 12)"
   ]
  },
  {
   "cell_type": "code",
   "execution_count": 94,
   "metadata": {},
   "outputs": [
    {
     "ename": "KeyboardInterrupt",
     "evalue": "",
     "output_type": "error",
     "traceback": [
      "\u001b[1;31m---------------------------------------------------------------------------\u001b[0m",
      "\u001b[1;31mKeyboardInterrupt\u001b[0m                         Traceback (most recent call last)",
      "\u001b[1;32m<ipython-input-94-0f96a18f62ee>\u001b[0m in \u001b[0;36m<module>\u001b[1;34m\u001b[0m\n\u001b[1;32m----> 1\u001b[1;33m \u001b[0mperc\u001b[0m\u001b[1;33m.\u001b[0m\u001b[0mroot\u001b[0m\u001b[1;33m(\u001b[0m\u001b[1;36m24\u001b[0m\u001b[1;33m)\u001b[0m\u001b[1;33m\u001b[0m\u001b[1;33m\u001b[0m\u001b[0m\n\u001b[0m",
      "\u001b[1;32m<ipython-input-90-3d0f564a1b37>\u001b[0m in \u001b[0;36mroot\u001b[1;34m(self, i)\u001b[0m\n\u001b[0;32m     11\u001b[0m     \u001b[1;32mdef\u001b[0m \u001b[0mroot\u001b[0m\u001b[1;33m(\u001b[0m\u001b[0mself\u001b[0m\u001b[1;33m,\u001b[0m \u001b[0mi\u001b[0m\u001b[1;33m)\u001b[0m\u001b[1;33m:\u001b[0m\u001b[1;33m\u001b[0m\u001b[1;33m\u001b[0m\u001b[0m\n\u001b[0;32m     12\u001b[0m         \u001b[1;32mwhile\u001b[0m \u001b[0mi\u001b[0m \u001b[1;33m!=\u001b[0m \u001b[0mself\u001b[0m\u001b[1;33m.\u001b[0m\u001b[0mget_id\u001b[0m\u001b[1;33m(\u001b[0m\u001b[0mi\u001b[0m\u001b[1;33m)\u001b[0m\u001b[1;33m:\u001b[0m\u001b[1;33m\u001b[0m\u001b[1;33m\u001b[0m\u001b[0m\n\u001b[1;32m---> 13\u001b[1;33m             \u001b[0mself\u001b[0m\u001b[1;33m.\u001b[0m\u001b[0mset_id\u001b[0m\u001b[1;33m(\u001b[0m\u001b[0mi\u001b[0m\u001b[1;33m,\u001b[0m \u001b[0mself\u001b[0m\u001b[1;33m.\u001b[0m\u001b[0mget_id\u001b[0m\u001b[1;33m(\u001b[0m\u001b[0mi\u001b[0m\u001b[1;33m)\u001b[0m\u001b[1;33m)\u001b[0m\u001b[1;33m\u001b[0m\u001b[1;33m\u001b[0m\u001b[0m\n\u001b[0m\u001b[0;32m     14\u001b[0m             \u001b[0mx\u001b[0m \u001b[1;33m=\u001b[0m \u001b[0mself\u001b[0m\u001b[1;33m.\u001b[0m\u001b[0mget_id\u001b[0m\u001b[1;33m(\u001b[0m\u001b[0mi\u001b[0m\u001b[1;33m)\u001b[0m\u001b[1;33m\u001b[0m\u001b[1;33m\u001b[0m\u001b[0m\n\u001b[0;32m     15\u001b[0m         \u001b[1;32mreturn\u001b[0m \u001b[0mx\u001b[0m\u001b[1;33m\u001b[0m\u001b[1;33m\u001b[0m\u001b[0m\n",
      "\u001b[1;31mKeyboardInterrupt\u001b[0m: "
     ]
    }
   ],
   "source": [
    "perc.root(24)"
   ]
  },
  {
   "cell_type": "code",
   "execution_count": 24,
   "metadata": {},
   "outputs": [
    {
     "data": {
      "text/plain": [
       "1.0"
      ]
     },
     "execution_count": 24,
     "metadata": {},
     "output_type": "execute_result"
    }
   ],
   "source": [
    "perc.num_open"
   ]
  },
  {
   "cell_type": "code",
   "execution_count": null,
   "metadata": {},
   "outputs": [],
   "source": []
  }
 ],
 "metadata": {
  "kernelspec": {
   "display_name": "Python 3",
   "language": "python",
   "name": "python3"
  },
  "language_info": {
   "codemirror_mode": {
    "name": "ipython",
    "version": 3
   },
   "file_extension": ".py",
   "mimetype": "text/x-python",
   "name": "python",
   "nbconvert_exporter": "python",
   "pygments_lexer": "ipython3",
   "version": "3.7.9"
  }
 },
 "nbformat": 4,
 "nbformat_minor": 4
}
